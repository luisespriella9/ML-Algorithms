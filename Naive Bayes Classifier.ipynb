{
 "cells": [
  {
   "cell_type": "code",
   "execution_count": 1,
   "metadata": {},
   "outputs": [],
   "source": [
    "import os\n",
    "import tensorflow as tf\n",
    "import matplotlib\n",
    "import matplotlib.pyplot as plt\n",
    "import pandas as pd\n",
    "import numpy as np\n",
    "from sklearn import preprocessing \n",
    "import math\n",
    "import warnings\n",
    "import operator\n",
    "import re\n",
    "\n",
    "'''\n",
    "My Own Algorithms Import\n",
    "'''\n",
    "from preprocessing.scaler import MinMaxScaler, StandardScaler\n",
    "from preprocessing.pca import PCA\n",
    "from analysis.confusion_matrix import ConfusionMatrix\n",
    "from analysis.roc import ROC\n",
    "from supervisedLearningAlgorithms.naive_bayes_classifier import NaiveBayes\n",
    "\n",
    "#Ignore Warnings\n",
    "warnings.filterwarnings(\"ignore\")\n",
    "\n",
    "#read data\n",
    "golf_data = pd.read_csv('data-sets/golf-weather.csv')\n",
    "interview_data = pd.read_csv('data-sets/interview.csv')\n",
    "\n",
    "#randomize data with given seed\n",
    "golf_data = golf_data.reindex(np.random.RandomState(seed=42).permutation(golf_data.index))\n",
    "interview_data = interview_data.reindex(np.random.RandomState(seed=42).permutation(interview_data.index))"
   ]
  },
  {
   "cell_type": "markdown",
   "metadata": {},
   "source": [
    "# Naive Bayes Classifier with Golf-Weather Data"
   ]
  },
  {
   "cell_type": "markdown",
   "metadata": {},
   "source": [
    "# Analyze the Data"
   ]
  },
  {
   "cell_type": "code",
   "execution_count": 2,
   "metadata": {},
   "outputs": [
    {
     "name": "stdout",
     "output_type": "stream",
     "text": [
      "<class 'pandas.core.frame.DataFrame'>\n",
      "Int64Index: 14 entries, 9 to 6\n",
      "Data columns (total 5 columns):\n",
      "Outlook     14 non-null object\n",
      "Temp        14 non-null object\n",
      "Humidity    14 non-null object\n",
      "Windy       14 non-null object\n",
      "Play        14 non-null object\n",
      "dtypes: object(5)\n",
      "memory usage: 672.0+ bytes\n"
     ]
    }
   ],
   "source": [
    "golf_data.info()"
   ]
  },
  {
   "cell_type": "code",
   "execution_count": 3,
   "metadata": {},
   "outputs": [
    {
     "data": {
      "text/html": [
       "<div>\n",
       "<style scoped>\n",
       "    .dataframe tbody tr th:only-of-type {\n",
       "        vertical-align: middle;\n",
       "    }\n",
       "\n",
       "    .dataframe tbody tr th {\n",
       "        vertical-align: top;\n",
       "    }\n",
       "\n",
       "    .dataframe thead th {\n",
       "        text-align: right;\n",
       "    }\n",
       "</style>\n",
       "<table border=\"1\" class=\"dataframe\">\n",
       "  <thead>\n",
       "    <tr style=\"text-align: right;\">\n",
       "      <th></th>\n",
       "      <th>Outlook</th>\n",
       "      <th>Temp</th>\n",
       "      <th>Humidity</th>\n",
       "      <th>Windy</th>\n",
       "      <th>Play</th>\n",
       "    </tr>\n",
       "  </thead>\n",
       "  <tbody>\n",
       "    <tr>\n",
       "      <th>9</th>\n",
       "      <td>Sunny</td>\n",
       "      <td>Mild</td>\n",
       "      <td>Normal</td>\n",
       "      <td>f</td>\n",
       "      <td>yes</td>\n",
       "    </tr>\n",
       "    <tr>\n",
       "      <th>11</th>\n",
       "      <td>Overcast</td>\n",
       "      <td>Mild</td>\n",
       "      <td>High</td>\n",
       "      <td>t</td>\n",
       "      <td>yes</td>\n",
       "    </tr>\n",
       "    <tr>\n",
       "      <th>0</th>\n",
       "      <td>Rainy</td>\n",
       "      <td>Hot</td>\n",
       "      <td>High</td>\n",
       "      <td>f</td>\n",
       "      <td>no</td>\n",
       "    </tr>\n",
       "    <tr>\n",
       "      <th>12</th>\n",
       "      <td>Overcast</td>\n",
       "      <td>Hot</td>\n",
       "      <td>Normal</td>\n",
       "      <td>f</td>\n",
       "      <td>yes</td>\n",
       "    </tr>\n",
       "    <tr>\n",
       "      <th>5</th>\n",
       "      <td>Sunny</td>\n",
       "      <td>Cool</td>\n",
       "      <td>Normal</td>\n",
       "      <td>t</td>\n",
       "      <td>no</td>\n",
       "    </tr>\n",
       "  </tbody>\n",
       "</table>\n",
       "</div>"
      ],
      "text/plain": [
       "     Outlook  Temp Humidity Windy Play\n",
       "9      Sunny  Mild   Normal     f  yes\n",
       "11  Overcast  Mild     High     t  yes\n",
       "0      Rainy   Hot     High     f   no\n",
       "12  Overcast   Hot   Normal     f  yes\n",
       "5      Sunny  Cool   Normal     t   no"
      ]
     },
     "execution_count": 3,
     "metadata": {},
     "output_type": "execute_result"
    }
   ],
   "source": [
    "golf_data.head()"
   ]
  },
  {
   "cell_type": "markdown",
   "metadata": {},
   "source": [
    "## Manipulate Data"
   ]
  },
  {
   "cell_type": "code",
   "execution_count": 4,
   "metadata": {},
   "outputs": [],
   "source": [
    "golf_data['Windy'] = [False if w==\"f\" else True for w in golf_data['Windy']]"
   ]
  },
  {
   "cell_type": "markdown",
   "metadata": {},
   "source": [
    "## Set Up Data"
   ]
  },
  {
   "cell_type": "code",
   "execution_count": 5,
   "metadata": {},
   "outputs": [],
   "source": [
    "seventy_five__percentile = int(len(golf_data)*0.75) \n",
    "x_train, y_train = golf_data.drop(['Play'], axis=1)[:seventy_five__percentile], golf_data['Play'][:seventy_five__percentile]\n",
    "x_test, y_test = golf_data.drop(['Play'], axis=1)[seventy_five__percentile:], golf_data['Play'][seventy_five__percentile:]\n",
    "x_train.reset_index(drop=True, inplace=True)\n",
    "x_test.reset_index(drop=True, inplace=True)"
   ]
  },
  {
   "cell_type": "markdown",
   "metadata": {},
   "source": [
    "## Naive Bayes Classifier"
   ]
  },
  {
   "cell_type": "code",
   "execution_count": 6,
   "metadata": {},
   "outputs": [
    {
     "data": {
      "text/plain": [
       "['no', 'no', 'yes', 'yes']"
      ]
     },
     "execution_count": 6,
     "metadata": {},
     "output_type": "execute_result"
    }
   ],
   "source": [
    "naive_bayes = NaiveBayes()\n",
    "naive_bayes.fit(x_train, y_train.values)\n",
    "predictions = naive_bayes.predict(x_test)\n",
    "predictions"
   ]
  },
  {
   "cell_type": "code",
   "execution_count": 7,
   "metadata": {},
   "outputs": [
    {
     "data": {
      "image/png": "[encoded data removed]",
      "text/plain": [
       "<Figure size 1152x864 with 2 Axes>"
      ]
     },
     "metadata": {
      "needs_background": "light"
     },
     "output_type": "display_data"
    }
   ],
   "source": [
    "confusion_matrix = ConfusionMatrix()\n",
    "confusion_matrix.fit(predictions, y_test.values)\n",
    "confusion_matrix.plot()"
   ]
  },
  {
   "cell_type": "markdown",
   "metadata": {},
   "source": [
    "# Naive Bayes Classifier with Interview Attendance Data"
   ]
  },
  {
   "cell_type": "markdown",
   "metadata": {},
   "source": [
    "## Analyze the Data"
   ]
  },
  {
   "cell_type": "code",
   "execution_count": 8,
   "metadata": {},
   "outputs": [
    {
     "name": "stdout",
     "output_type": "stream",
     "text": [
      "<class 'pandas.core.frame.DataFrame'>\n",
      "Int64Index: 1234 entries, 753 to 1126\n",
      "Data columns (total 28 columns):\n",
      "Date of Interview                                                                                     1233 non-null object\n",
      "Client name                                                                                           1234 non-null object\n",
      "Industry                                                                                              1233 non-null object\n",
      "Location                                                                                              1233 non-null object\n",
      "Position to be closed                                                                                 1233 non-null object\n",
      "Nature of Skillset                                                                                    1233 non-null object\n",
      "Interview Type                                                                                        1233 non-null object\n",
      "Name(Cand ID)                                                                                         1233 non-null object\n",
      "Gender                                                                                                1233 non-null object\n",
      "Candidate Current Location                                                                            1233 non-null object\n",
      "Candidate Job Location                                                                                1233 non-null object\n",
      "Interview Venue                                                                                       1233 non-null object\n",
      "Candidate Native location                                                                             1233 non-null object\n",
      "Have you obtained the necessary permission to start at the required time                              1029 non-null object\n",
      "Hope there will be no unscheduled meetings                                                            986 non-null object\n",
      "Can I Call you three hours before the interview and follow up on your attendance for the interview    986 non-null object\n",
      "Can I have an alternative number/ desk number. I assure you that I will not trouble you too much      986 non-null object\n",
      "Have you taken a printout of your updated resume. Have you read the JD and understood the same        985 non-null object\n",
      "Are you clear with the venue details and the landmark.                                                985 non-null object\n",
      "Has the call letter been shared                                                                       988 non-null object\n",
      "Expected Attendance                                                                                   1228 non-null object\n",
      "Observed Attendance                                                                                   1233 non-null object\n",
      "Marital Status                                                                                        1233 non-null object\n",
      "Unnamed: 23                                                                                           0 non-null float64\n",
      "Unnamed: 24                                                                                           0 non-null float64\n",
      "Unnamed: 25                                                                                           0 non-null float64\n",
      "Unnamed: 26                                                                                           0 non-null float64\n",
      "Unnamed: 27                                                                                           0 non-null float64\n",
      "dtypes: float64(5), object(23)\n",
      "memory usage: 279.6+ KB\n"
     ]
    }
   ],
   "source": [
    "interview_data.info()"
   ]
  },
  {
   "cell_type": "markdown",
   "metadata": {},
   "source": [
    "## Undecided For Yes/No questions"
   ]
  },
  {
   "cell_type": "code",
   "execution_count": 9,
   "metadata": {},
   "outputs": [],
   "source": [
    "def fillColumns(df, columns, value):\n",
    "    for column in columns:\n",
    "        df[column] = df[column].replace(np.nan, value)"
   ]
  },
  {
   "cell_type": "code",
   "execution_count": 10,
   "metadata": {},
   "outputs": [],
   "source": [
    "fillColumns(interview_data, ['Have you obtained the necessary permission to start at the required time', 'Hope there will be no unscheduled meetings', 'Can I Call you three hours before the interview and follow up on your attendance for the interview', 'Can I have an alternative number/ desk number. I assure you that I will not trouble you too much', 'Have you taken a printout of your updated resume. Have you read the JD and understood the same', 'Are you clear with the venue details and the landmark.', 'Has the call letter been shared'], 'Unknown')\n",
    "fillColumns(interview_data, ['Expected Attendance'], 'Uncertain')"
   ]
  },
  {
   "cell_type": "code",
   "execution_count": 11,
   "metadata": {},
   "outputs": [
    {
     "name": "stdout",
     "output_type": "stream",
     "text": [
      "<class 'pandas.core.frame.DataFrame'>\n",
      "Int64Index: 1234 entries, 753 to 1126\n",
      "Data columns (total 28 columns):\n",
      "Date of Interview                                                                                     1233 non-null object\n",
      "Client name                                                                                           1234 non-null object\n",
      "Industry                                                                                              1233 non-null object\n",
      "Location                                                                                              1233 non-null object\n",
      "Position to be closed                                                                                 1233 non-null object\n",
      "Nature of Skillset                                                                                    1233 non-null object\n",
      "Interview Type                                                                                        1233 non-null object\n",
      "Name(Cand ID)                                                                                         1233 non-null object\n",
      "Gender                                                                                                1233 non-null object\n",
      "Candidate Current Location                                                                            1233 non-null object\n",
      "Candidate Job Location                                                                                1233 non-null object\n",
      "Interview Venue                                                                                       1233 non-null object\n",
      "Candidate Native location                                                                             1233 non-null object\n",
      "Have you obtained the necessary permission to start at the required time                              1234 non-null object\n",
      "Hope there will be no unscheduled meetings                                                            1234 non-null object\n",
      "Can I Call you three hours before the interview and follow up on your attendance for the interview    1234 non-null object\n",
      "Can I have an alternative number/ desk number. I assure you that I will not trouble you too much      1234 non-null object\n",
      "Have you taken a printout of your updated resume. Have you read the JD and understood the same        1234 non-null object\n",
      "Are you clear with the venue details and the landmark.                                                1234 non-null object\n",
      "Has the call letter been shared                                                                       1234 non-null object\n",
      "Expected Attendance                                                                                   1234 non-null object\n",
      "Observed Attendance                                                                                   1233 non-null object\n",
      "Marital Status                                                                                        1233 non-null object\n",
      "Unnamed: 23                                                                                           0 non-null float64\n",
      "Unnamed: 24                                                                                           0 non-null float64\n",
      "Unnamed: 25                                                                                           0 non-null float64\n",
      "Unnamed: 26                                                                                           0 non-null float64\n",
      "Unnamed: 27                                                                                           0 non-null float64\n",
      "dtypes: float64(5), object(23)\n",
      "memory usage: 279.6+ KB\n"
     ]
    }
   ],
   "source": [
    "interview_data.info()"
   ]
  },
  {
   "cell_type": "markdown",
   "metadata": {},
   "source": [
    "## Remove empty values and unnecessary columns"
   ]
  },
  {
   "cell_type": "code",
   "execution_count": 12,
   "metadata": {},
   "outputs": [],
   "source": [
    "interview_data.dropna(axis=1, how='all', inplace=True)\n",
    "interview_data.dropna(inplace=True)"
   ]
  },
  {
   "cell_type": "code",
   "execution_count": 13,
   "metadata": {},
   "outputs": [
    {
     "name": "stdout",
     "output_type": "stream",
     "text": [
      "<class 'pandas.core.frame.DataFrame'>\n",
      "Int64Index: 1233 entries, 753 to 1126\n",
      "Data columns (total 23 columns):\n",
      "Date of Interview                                                                                     1233 non-null object\n",
      "Client name                                                                                           1233 non-null object\n",
      "Industry                                                                                              1233 non-null object\n",
      "Location                                                                                              1233 non-null object\n",
      "Position to be closed                                                                                 1233 non-null object\n",
      "Nature of Skillset                                                                                    1233 non-null object\n",
      "Interview Type                                                                                        1233 non-null object\n",
      "Name(Cand ID)                                                                                         1233 non-null object\n",
      "Gender                                                                                                1233 non-null object\n",
      "Candidate Current Location                                                                            1233 non-null object\n",
      "Candidate Job Location                                                                                1233 non-null object\n",
      "Interview Venue                                                                                       1233 non-null object\n",
      "Candidate Native location                                                                             1233 non-null object\n",
      "Have you obtained the necessary permission to start at the required time                              1233 non-null object\n",
      "Hope there will be no unscheduled meetings                                                            1233 non-null object\n",
      "Can I Call you three hours before the interview and follow up on your attendance for the interview    1233 non-null object\n",
      "Can I have an alternative number/ desk number. I assure you that I will not trouble you too much      1233 non-null object\n",
      "Have you taken a printout of your updated resume. Have you read the JD and understood the same        1233 non-null object\n",
      "Are you clear with the venue details and the landmark.                                                1233 non-null object\n",
      "Has the call letter been shared                                                                       1233 non-null object\n",
      "Expected Attendance                                                                                   1233 non-null object\n",
      "Observed Attendance                                                                                   1233 non-null object\n",
      "Marital Status                                                                                        1233 non-null object\n",
      "dtypes: object(23)\n",
      "memory usage: 231.2+ KB\n"
     ]
    }
   ],
   "source": [
    "interview_data.info()"
   ]
  },
  {
   "cell_type": "code",
   "execution_count": 14,
   "metadata": {},
   "outputs": [
    {
     "data": {
      "text/html": [
       "<div>\n",
       "<style scoped>\n",
       "    .dataframe tbody tr th:only-of-type {\n",
       "        vertical-align: middle;\n",
       "    }\n",
       "\n",
       "    .dataframe tbody tr th {\n",
       "        vertical-align: top;\n",
       "    }\n",
       "\n",
       "    .dataframe thead th {\n",
       "        text-align: right;\n",
       "    }\n",
       "</style>\n",
       "<table border=\"1\" class=\"dataframe\">\n",
       "  <thead>\n",
       "    <tr style=\"text-align: right;\">\n",
       "      <th></th>\n",
       "      <th>Date of Interview</th>\n",
       "      <th>Client name</th>\n",
       "      <th>Industry</th>\n",
       "      <th>Location</th>\n",
       "      <th>Position to be closed</th>\n",
       "      <th>Nature of Skillset</th>\n",
       "      <th>Interview Type</th>\n",
       "      <th>Name(Cand ID)</th>\n",
       "      <th>Gender</th>\n",
       "      <th>Candidate Current Location</th>\n",
       "      <th>...</th>\n",
       "      <th>Have you obtained the necessary permission to start at the required time</th>\n",
       "      <th>Hope there will be no unscheduled meetings</th>\n",
       "      <th>Can I Call you three hours before the interview and follow up on your attendance for the interview</th>\n",
       "      <th>Can I have an alternative number/ desk number. I assure you that I will not trouble you too much</th>\n",
       "      <th>Have you taken a printout of your updated resume. Have you read the JD and understood the same</th>\n",
       "      <th>Are you clear with the venue details and the landmark.</th>\n",
       "      <th>Has the call letter been shared</th>\n",
       "      <th>Expected Attendance</th>\n",
       "      <th>Observed Attendance</th>\n",
       "      <th>Marital Status</th>\n",
       "    </tr>\n",
       "  </thead>\n",
       "  <tbody>\n",
       "    <tr>\n",
       "      <th>753</th>\n",
       "      <td>06.02.2016</td>\n",
       "      <td>Standard Chartered Bank</td>\n",
       "      <td>BFSI</td>\n",
       "      <td>Chennai</td>\n",
       "      <td>Routine</td>\n",
       "      <td>JAVA/J2EE/Struts/Hibernate</td>\n",
       "      <td>Scheduled Walk In</td>\n",
       "      <td>Candidate 754</td>\n",
       "      <td>Female</td>\n",
       "      <td>Chennai</td>\n",
       "      <td>...</td>\n",
       "      <td>Yes</td>\n",
       "      <td>Yes</td>\n",
       "      <td>Yes</td>\n",
       "      <td>Yes</td>\n",
       "      <td>Yes</td>\n",
       "      <td>Yes</td>\n",
       "      <td>Yes</td>\n",
       "      <td>Yes</td>\n",
       "      <td>No</td>\n",
       "      <td>Married</td>\n",
       "    </tr>\n",
       "    <tr>\n",
       "      <th>582</th>\n",
       "      <td>02.09.2016</td>\n",
       "      <td>Standard Chartered Bank</td>\n",
       "      <td>BFSI</td>\n",
       "      <td>Chennai</td>\n",
       "      <td>Routine</td>\n",
       "      <td>Accounting Operations</td>\n",
       "      <td>Scheduled Walk In</td>\n",
       "      <td>Candidate 583</td>\n",
       "      <td>Female</td>\n",
       "      <td>Chennai</td>\n",
       "      <td>...</td>\n",
       "      <td>Yes</td>\n",
       "      <td>Yes</td>\n",
       "      <td>Yes</td>\n",
       "      <td>Yes</td>\n",
       "      <td>Yes</td>\n",
       "      <td>Yes</td>\n",
       "      <td>Yes</td>\n",
       "      <td>Yes</td>\n",
       "      <td>Yes</td>\n",
       "      <td>Single</td>\n",
       "    </tr>\n",
       "    <tr>\n",
       "      <th>548</th>\n",
       "      <td>02.09.2016</td>\n",
       "      <td>Standard Chartered Bank</td>\n",
       "      <td>BFSI</td>\n",
       "      <td>Chennai</td>\n",
       "      <td>Routine</td>\n",
       "      <td>Accounting Operations</td>\n",
       "      <td>Scheduled Walk In</td>\n",
       "      <td>Candidate 549</td>\n",
       "      <td>Male</td>\n",
       "      <td>Chennai</td>\n",
       "      <td>...</td>\n",
       "      <td>Yes</td>\n",
       "      <td>Yes</td>\n",
       "      <td>Yes</td>\n",
       "      <td>Yes</td>\n",
       "      <td>Yes</td>\n",
       "      <td>Yes</td>\n",
       "      <td>Yes</td>\n",
       "      <td>Yes</td>\n",
       "      <td>No</td>\n",
       "      <td>Married</td>\n",
       "    </tr>\n",
       "    <tr>\n",
       "      <th>113</th>\n",
       "      <td>25.05.16</td>\n",
       "      <td>Standard Chartered Bank</td>\n",
       "      <td>BFSI</td>\n",
       "      <td>Chennai</td>\n",
       "      <td>Routine</td>\n",
       "      <td>Accounting Operations</td>\n",
       "      <td>Scheduled Walkin</td>\n",
       "      <td>Candidate 114</td>\n",
       "      <td>Female</td>\n",
       "      <td>Chennai</td>\n",
       "      <td>...</td>\n",
       "      <td>Yes</td>\n",
       "      <td>Yes</td>\n",
       "      <td>Yes</td>\n",
       "      <td>Yes</td>\n",
       "      <td>Yes</td>\n",
       "      <td>Yes</td>\n",
       "      <td>Yes</td>\n",
       "      <td>Yes</td>\n",
       "      <td>Yes</td>\n",
       "      <td>Single</td>\n",
       "    </tr>\n",
       "    <tr>\n",
       "      <th>174</th>\n",
       "      <td>04/12/16</td>\n",
       "      <td>Standard Chartered Bank</td>\n",
       "      <td>BFSI</td>\n",
       "      <td>Bangalore</td>\n",
       "      <td>Routine</td>\n",
       "      <td>Fresher</td>\n",
       "      <td>Walkin</td>\n",
       "      <td>Candidate 175</td>\n",
       "      <td>Male</td>\n",
       "      <td>Bangalore</td>\n",
       "      <td>...</td>\n",
       "      <td>Yes</td>\n",
       "      <td>Yes</td>\n",
       "      <td>Yes</td>\n",
       "      <td>Yes</td>\n",
       "      <td>Yes</td>\n",
       "      <td>Yes</td>\n",
       "      <td>Yes</td>\n",
       "      <td>Yes</td>\n",
       "      <td>No</td>\n",
       "      <td>Single</td>\n",
       "    </tr>\n",
       "  </tbody>\n",
       "</table>\n",
       "<p>5 rows × 23 columns</p>\n",
       "</div>"
      ],
      "text/plain": [
       "    Date of Interview              Client name Industry   Location  \\\n",
       "753        06.02.2016  Standard Chartered Bank     BFSI    Chennai   \n",
       "582        02.09.2016  Standard Chartered Bank     BFSI    Chennai   \n",
       "548        02.09.2016  Standard Chartered Bank     BFSI    Chennai   \n",
       "113          25.05.16  Standard Chartered Bank     BFSI    Chennai   \n",
       "174          04/12/16  Standard Chartered Bank     BFSI  Bangalore   \n",
       "\n",
       "    Position to be closed          Nature of Skillset     Interview Type  \\\n",
       "753               Routine  JAVA/J2EE/Struts/Hibernate  Scheduled Walk In   \n",
       "582               Routine       Accounting Operations  Scheduled Walk In   \n",
       "548               Routine       Accounting Operations  Scheduled Walk In   \n",
       "113               Routine       Accounting Operations   Scheduled Walkin   \n",
       "174               Routine                     Fresher             Walkin   \n",
       "\n",
       "     Name(Cand ID)  Gender Candidate Current Location  ...  \\\n",
       "753  Candidate 754  Female                    Chennai  ...   \n",
       "582  Candidate 583  Female                    Chennai  ...   \n",
       "548  Candidate 549    Male                    Chennai  ...   \n",
       "113  Candidate 114  Female                    Chennai  ...   \n",
       "174  Candidate 175    Male                  Bangalore  ...   \n",
       "\n",
       "    Have you obtained the necessary permission to start at the required time  \\\n",
       "753                                                Yes                         \n",
       "582                                                Yes                         \n",
       "548                                                Yes                         \n",
       "113                                                Yes                         \n",
       "174                                                Yes                         \n",
       "\n",
       "    Hope there will be no unscheduled meetings  \\\n",
       "753                                        Yes   \n",
       "582                                        Yes   \n",
       "548                                        Yes   \n",
       "113                                        Yes   \n",
       "174                                        Yes   \n",
       "\n",
       "    Can I Call you three hours before the interview and follow up on your attendance for the interview  \\\n",
       "753                                                Yes                                                   \n",
       "582                                                Yes                                                   \n",
       "548                                                Yes                                                   \n",
       "113                                                Yes                                                   \n",
       "174                                                Yes                                                   \n",
       "\n",
       "    Can I have an alternative number/ desk number. I assure you that I will not trouble you too much  \\\n",
       "753                                                Yes                                                 \n",
       "582                                                Yes                                                 \n",
       "548                                                Yes                                                 \n",
       "113                                                Yes                                                 \n",
       "174                                                Yes                                                 \n",
       "\n",
       "    Have you taken a printout of your updated resume. Have you read the JD and understood the same  \\\n",
       "753                                                Yes                                               \n",
       "582                                                Yes                                               \n",
       "548                                                Yes                                               \n",
       "113                                                Yes                                               \n",
       "174                                                Yes                                               \n",
       "\n",
       "    Are you clear with the venue details and the landmark.  \\\n",
       "753                                                Yes       \n",
       "582                                                Yes       \n",
       "548                                                Yes       \n",
       "113                                                Yes       \n",
       "174                                                Yes       \n",
       "\n",
       "    Has the call letter been shared Expected Attendance Observed Attendance  \\\n",
       "753                             Yes                 Yes                  No   \n",
       "582                             Yes                 Yes                 Yes   \n",
       "548                             Yes                 Yes                  No   \n",
       "113                             Yes                 Yes                 Yes   \n",
       "174                             Yes                 Yes                  No   \n",
       "\n",
       "    Marital Status  \n",
       "753        Married  \n",
       "582         Single  \n",
       "548        Married  \n",
       "113         Single  \n",
       "174         Single  \n",
       "\n",
       "[5 rows x 23 columns]"
      ]
     },
     "execution_count": 14,
     "metadata": {},
     "output_type": "execute_result"
    }
   ],
   "source": [
    "interview_data.head()"
   ]
  },
  {
   "cell_type": "markdown",
   "metadata": {},
   "source": [
    "## Analyze Column values"
   ]
  },
  {
   "cell_type": "code",
   "execution_count": 15,
   "metadata": {},
   "outputs": [],
   "source": [
    "def df_unique_labels(df, column):\n",
    "    return np.unique(df[column].values)\n",
    "\n",
    "def stripAndLower(df, column):\n",
    "    df[column] = [val.strip().lower() for val in df[column]]"
   ]
  },
  {
   "cell_type": "markdown",
   "metadata": {},
   "source": [
    "Observed Attendance"
   ]
  },
  {
   "cell_type": "code",
   "execution_count": 16,
   "metadata": {},
   "outputs": [],
   "source": [
    "stripAndLower(interview_data, 'Observed Attendance')"
   ]
  },
  {
   "cell_type": "code",
   "execution_count": 17,
   "metadata": {},
   "outputs": [
    {
     "data": {
      "text/plain": [
       "array(['no', 'yes'], dtype=object)"
      ]
     },
     "execution_count": 17,
     "metadata": {},
     "output_type": "execute_result"
    }
   ],
   "source": [
    "df_unique_labels(interview_data, 'Observed Attendance')"
   ]
  },
  {
   "cell_type": "markdown",
   "metadata": {},
   "source": [
    "Expected Attendance"
   ]
  },
  {
   "cell_type": "code",
   "execution_count": 18,
   "metadata": {},
   "outputs": [],
   "source": [
    "stripAndLower(interview_data, 'Expected Attendance')"
   ]
  },
  {
   "cell_type": "code",
   "execution_count": 19,
   "metadata": {},
   "outputs": [
    {
     "data": {
      "text/plain": [
       "array(['10.30 am', '11:00 am', 'no', 'uncertain', 'yes'], dtype=object)"
      ]
     },
     "execution_count": 19,
     "metadata": {},
     "output_type": "execute_result"
    }
   ],
   "source": [
    "df_unique_labels(interview_data, 'Expected Attendance')"
   ]
  },
  {
   "cell_type": "markdown",
   "metadata": {},
   "source": [
    "Client name"
   ]
  },
  {
   "cell_type": "code",
   "execution_count": 20,
   "metadata": {},
   "outputs": [
    {
     "data": {
      "text/plain": [
       "array(['ANZ', 'Aon Hewitt', 'Aon hewitt Gurgaon', 'Astrazeneca',\n",
       "       'Barclays', 'Flextronics', 'Hewitt', 'Hospira', 'Pfizer',\n",
       "       'Prodapt', 'Standard Chartered Bank',\n",
       "       'Standard Chartered Bank Chennai', 'UST', 'Williams Lea',\n",
       "       'Woori Bank'], dtype=object)"
      ]
     },
     "execution_count": 20,
     "metadata": {},
     "output_type": "execute_result"
    }
   ],
   "source": [
    "df_unique_labels(interview_data, 'Client name')"
   ]
  },
  {
   "cell_type": "markdown",
   "metadata": {},
   "source": [
    "Industry"
   ]
  },
  {
   "cell_type": "code",
   "execution_count": 21,
   "metadata": {},
   "outputs": [
    {
     "data": {
      "text/plain": [
       "array(['BFSI', 'Electronics', 'IT', 'IT Products and Services',\n",
       "       'IT Services', 'Pharmaceuticals', 'Telecom'], dtype=object)"
      ]
     },
     "execution_count": 21,
     "metadata": {},
     "output_type": "execute_result"
    }
   ],
   "source": [
    "df_unique_labels(interview_data, 'Industry')"
   ]
  },
  {
   "cell_type": "markdown",
   "metadata": {},
   "source": [
    "Location"
   ]
  },
  {
   "cell_type": "code",
   "execution_count": 22,
   "metadata": {},
   "outputs": [
    {
     "data": {
      "text/plain": [
       "array(['- Cochin- ', 'Bangalore', 'CHENNAI', 'Chennai', 'Delhi',\n",
       "       'Gurgaon', 'Gurgaonr', 'Hyderabad', 'Noida', 'chennai', 'chennai '],\n",
       "      dtype=object)"
      ]
     },
     "execution_count": 22,
     "metadata": {},
     "output_type": "execute_result"
    }
   ],
   "source": [
    "df_unique_labels(interview_data, 'Location')"
   ]
  },
  {
   "cell_type": "markdown",
   "metadata": {},
   "source": [
    "Position to be closed"
   ]
  },
  {
   "cell_type": "code",
   "execution_count": 23,
   "metadata": {},
   "outputs": [
    {
     "data": {
      "text/plain": [
       "array(['AML', 'Dot Net', 'Niche', 'Production- Sterile', 'Routine',\n",
       "       'Selenium testing', 'Trade Finance'], dtype=object)"
      ]
     },
     "execution_count": 23,
     "metadata": {},
     "output_type": "execute_result"
    }
   ],
   "source": [
    "df_unique_labels(interview_data, 'Position to be closed')"
   ]
  },
  {
   "cell_type": "markdown",
   "metadata": {},
   "source": [
    "Nature of Skillset"
   ]
  },
  {
   "cell_type": "code",
   "execution_count": 24,
   "metadata": {},
   "outputs": [
    {
     "data": {
      "text/plain": [
       "array(['- SAPBO, Informatica', '10.00 AM', '11.30 AM', '11.30 Am',\n",
       "       '12.30 Pm', '9.00 Am', '9.30 AM', 'ALS Testing', 'AML/KYC/CDD',\n",
       "       'Accounting Operations', 'Analytical R & D', 'Analytical R&D',\n",
       "       'Automation Testing Java', 'Banking Operations',\n",
       "       'Banking operations', 'BaseSAS Program/ Reporting', 'Biosimilars',\n",
       "       'Biosimiliars', 'Biosimillar', 'CDD KYC', 'COTS', 'COTS Developer',\n",
       "       'Core Java', 'Dot Net', 'EMEA', 'ETL', 'Fresher',\n",
       "       'Global Labelling', 'Hadoop', 'JAVA, J2ee', 'JAVA,J2ee',\n",
       "       'JAVA,SQL', 'JAVA/J2EE', 'JAVA/J2EE/Struts/Hibernate',\n",
       "       'JAVA/SPRING/HIBERNATE/JSF', 'Java', 'Java ', 'Java ,J2ee',\n",
       "       'Java Developer', 'Java J2EE', 'Java J2ee', 'Java JSF',\n",
       "       'Java Tech Lead', 'Java, J2Ee', 'Java, SQL',\n",
       "       'Java, Spring, Hibernate', 'Java, XML, Struts, hibernate',\n",
       "       'Java,J2EE', 'Java,J2ee, JSF', 'Java,SQL', 'Java,spring,hibernate',\n",
       "       'Java-SAS', 'Java/J2ee', 'Java/J2ee/Core Java', 'L & L',\n",
       "       'LCM -Manager', 'Lending & Liability', 'Lending And Liabilities',\n",
       "       'Lending and Liabilities', 'Lending&Liablities', 'Licensing – RA',\n",
       "       'Manager', 'Oracle', 'Oracle Plsql', 'Product Control',\n",
       "       'Production', 'Production Support - SCCM', 'Publishing',\n",
       "       'RA Label', 'RA Publishing', 'Regulatory', 'Routine', 'SAS',\n",
       "       'SCCM', 'SCCM – SQL', 'SCCM – Sharepoint',\n",
       "       'SCCM-(Network, sharepoint,ms exchange)', 'SCCm- Desktop support',\n",
       "       'Sccm- networking', 'Senior Analyst',\n",
       "       'Senior software engineer-Mednet', 'Sr Automation Testing',\n",
       "       'Submission Management', 'T-24 developer', 'TL',\n",
       "       'Tech Lead- Mednet', 'Tech lead-Mednet', 'Technical Lead',\n",
       "       'generic drugs – RA', 'production', 'sccm', 'testing'],\n",
       "      dtype=object)"
      ]
     },
     "execution_count": 24,
     "metadata": {},
     "output_type": "execute_result"
    }
   ],
   "source": [
    "df_unique_labels(interview_data, 'Nature of Skillset')"
   ]
  },
  {
   "cell_type": "markdown",
   "metadata": {},
   "source": [
    "Interview Type"
   ]
  },
  {
   "cell_type": "code",
   "execution_count": 25,
   "metadata": {},
   "outputs": [
    {
     "data": {
      "text/plain": [
       "array(['Sceduled walkin', 'Scheduled ', 'Scheduled Walk In',\n",
       "       'Scheduled Walkin', 'Walkin', 'Walkin '], dtype=object)"
      ]
     },
     "execution_count": 25,
     "metadata": {},
     "output_type": "execute_result"
    }
   ],
   "source": [
    "df_unique_labels(interview_data, 'Interview Type')"
   ]
  },
  {
   "cell_type": "markdown",
   "metadata": {},
   "source": [
    "Candidate Current Location"
   ]
  },
  {
   "cell_type": "code",
   "execution_count": 26,
   "metadata": {},
   "outputs": [
    {
     "data": {
      "text/plain": [
       "array(['- Cochin- ', 'Bangalore', 'CHENNAI', 'Chennai', 'Delhi',\n",
       "       'Gurgaon', 'Hyderabad', 'Noida', 'chennai', 'chennai '],\n",
       "      dtype=object)"
      ]
     },
     "execution_count": 26,
     "metadata": {},
     "output_type": "execute_result"
    }
   ],
   "source": [
    "df_unique_labels(interview_data, 'Candidate Current Location')"
   ]
  },
  {
   "cell_type": "markdown",
   "metadata": {},
   "source": [
    "Candidate Job Location"
   ]
  },
  {
   "cell_type": "code",
   "execution_count": 27,
   "metadata": {},
   "outputs": [
    {
     "data": {
      "text/plain": [
       "array(['- Cochin- ', 'Bangalore', 'Chennai', 'Gurgaon', 'Hosur', 'Noida',\n",
       "       'Visakapatinam'], dtype=object)"
      ]
     },
     "execution_count": 27,
     "metadata": {},
     "output_type": "execute_result"
    }
   ],
   "source": [
    "df_unique_labels(interview_data, 'Candidate Job Location')"
   ]
  },
  {
   "cell_type": "markdown",
   "metadata": {},
   "source": [
    "Interview Venue"
   ]
  },
  {
   "cell_type": "code",
   "execution_count": 28,
   "metadata": {},
   "outputs": [
    {
     "data": {
      "text/plain": [
       "array(['- Cochin- ', 'Bangalore', 'Chennai', 'Gurgaon', 'Hosur',\n",
       "       'Hyderabad', 'Noida'], dtype=object)"
      ]
     },
     "execution_count": 28,
     "metadata": {},
     "output_type": "execute_result"
    }
   ],
   "source": [
    "df_unique_labels(interview_data, 'Interview Venue')"
   ]
  },
  {
   "cell_type": "markdown",
   "metadata": {},
   "source": [
    "Candidate Native location"
   ]
  },
  {
   "cell_type": "code",
   "execution_count": 29,
   "metadata": {},
   "outputs": [
    {
     "data": {
      "text/plain": [
       "array(['- Cochin- ', 'Agra', 'Ahmedabad', 'Allahabad', 'Ambur',\n",
       "       'Anantapur', 'Baddi', 'Bangalore', 'Belgaum', 'Bhubaneshwar',\n",
       "       'Chandigarh', 'Chennai', 'Chitoor', 'Cochin', 'Coimbatore',\n",
       "       'Cuttack', 'Delhi', 'Delhi /NCR', 'Faizabad', 'Ghaziabad',\n",
       "       'Gurgaon', 'Hissar', 'Hosur', 'Hyderabad', 'Kanpur', 'Kolkata',\n",
       "       'Kurnool', 'Lucknow', 'Mumbai', 'Mysore', 'Nagercoil', 'Noida',\n",
       "       'Panjim', 'Patna', 'Pondicherry', 'Pune', 'Salem', 'Tanjore',\n",
       "       'Tirupati', 'Trichy', 'Trivandrum', 'Tuticorin', 'Vellore',\n",
       "       'Vijayawada', 'Visakapatinam', 'Warangal'], dtype=object)"
      ]
     },
     "execution_count": 29,
     "metadata": {},
     "output_type": "execute_result"
    }
   ],
   "source": [
    "df_unique_labels(interview_data, 'Candidate Native location')"
   ]
  },
  {
   "cell_type": "markdown",
   "metadata": {},
   "source": [
    "## Merge similar values in column"
   ]
  },
  {
   "cell_type": "markdown",
   "metadata": {},
   "source": [
    "Client name"
   ]
  },
  {
   "cell_type": "code",
   "execution_count": 30,
   "metadata": {},
   "outputs": [],
   "source": [
    "def mergeValues(val, valuesToConvert, valuesConvertedTo):\n",
    "    if (val in valuesToConvert):\n",
    "        return valuesConvertedTo\n",
    "    else:\n",
    "        return val\n",
    "    \n",
    "def mergeIfContains(val, substring, resultingLabel = None):\n",
    "    if (resultingLabel == None):\n",
    "        resultingLabel = substring\n",
    "    if (substring.lower().strip() in val.lower().strip()):\n",
    "        return resultingLabel\n",
    "    else:\n",
    "        return val\n",
    "    \n",
    "def cleanOtherValues(val, valuesWanted, otherLabel = \"Others\"):\n",
    "    lower_vals = [x.lower() for x in valuesWanted]\n",
    "    if (val.lower() not in lower_vals):\n",
    "        return otherLabel\n",
    "    else:\n",
    "        return val"
   ]
  },
  {
   "cell_type": "code",
   "execution_count": 31,
   "metadata": {},
   "outputs": [],
   "source": [
    "interview_data['Client name'] = interview_data['Client name'].apply(mergeIfContains, substring = 'Hewitt')"
   ]
  },
  {
   "cell_type": "code",
   "execution_count": 32,
   "metadata": {},
   "outputs": [],
   "source": [
    "interview_data['Client name'] = interview_data['Client name'].apply(mergeIfContains, substring = 'Standard Chartered Bank')"
   ]
  },
  {
   "cell_type": "code",
   "execution_count": 33,
   "metadata": {},
   "outputs": [
    {
     "data": {
      "text/plain": [
       "array(['ANZ', 'Astrazeneca', 'Barclays', 'Flextronics', 'Hewitt',\n",
       "       'Hospira', 'Pfizer', 'Prodapt', 'Standard Chartered Bank', 'UST',\n",
       "       'Williams Lea', 'Woori Bank'], dtype=object)"
      ]
     },
     "execution_count": 33,
     "metadata": {},
     "output_type": "execute_result"
    }
   ],
   "source": [
    "df_unique_labels(interview_data, 'Client name')"
   ]
  },
  {
   "cell_type": "markdown",
   "metadata": {},
   "source": [
    "Industry"
   ]
  },
  {
   "cell_type": "code",
   "execution_count": 34,
   "metadata": {},
   "outputs": [],
   "source": [
    "interview_data['Industry'] = interview_data['Industry'].apply(mergeIfContains, substring='IT')\n",
    "interview_data['Industry'] = interview_data['Industry'].apply(mergeIfContains, substring='Electronics', resultingLabel = 'IT')\n",
    "interview_data['Industry'] = interview_data['Industry'].apply(mergeIfContains, substring='Electronics', resultingLabel = 'Telecom')"
   ]
  },
  {
   "cell_type": "code",
   "execution_count": 35,
   "metadata": {},
   "outputs": [
    {
     "data": {
      "text/plain": [
       "array(['BFSI', 'IT', 'Pharmaceuticals', 'Telecom'], dtype=object)"
      ]
     },
     "execution_count": 35,
     "metadata": {},
     "output_type": "execute_result"
    }
   ],
   "source": [
    "df_unique_labels(interview_data, 'Industry')"
   ]
  },
  {
   "cell_type": "markdown",
   "metadata": {},
   "source": [
    "Location"
   ]
  },
  {
   "cell_type": "code",
   "execution_count": 36,
   "metadata": {},
   "outputs": [
    {
     "data": {
      "text/plain": [
       "array(['- Cochin- ', 'Bangalore', 'Chennai', 'Delhi', 'Gurgaon',\n",
       "       'Gurgaonr', 'Hyderabad', 'Noida'], dtype=object)"
      ]
     },
     "execution_count": 36,
     "metadata": {},
     "output_type": "execute_result"
    }
   ],
   "source": [
    "interview_data['Location'] = interview_data['Location'].apply(mergeIfContains, substring='Chennai')\n",
    "df_unique_labels(interview_data, 'Location')"
   ]
  },
  {
   "cell_type": "markdown",
   "metadata": {},
   "source": [
    "Position to be closed"
   ]
  },
  {
   "cell_type": "code",
   "execution_count": 37,
   "metadata": {},
   "outputs": [
    {
     "data": {
      "text/plain": [
       "array(['Niche', 'Routine'], dtype=object)"
      ]
     },
     "execution_count": 37,
     "metadata": {},
     "output_type": "execute_result"
    }
   ],
   "source": [
    "interview_data['Position to be closed'] = interview_data['Position to be closed'].apply(mergeIfContains, substring='Dot Net', resultingLabel = 'Routine')\n",
    "interview_data['Position to be closed'] = interview_data['Position to be closed'].apply(mergeIfContains, substring='Trade Finance', resultingLabel = 'Niche')\n",
    "interview_data['Position to be closed'] = interview_data['Position to be closed'].apply(mergeIfContains, substring='AML', resultingLabel = 'Niche')\n",
    "interview_data['Position to be closed'] = interview_data['Position to be closed'].apply(mergeIfContains, substring='Selenium testing', resultingLabel = 'Routine')\n",
    "interview_data['Position to be closed'] = interview_data['Position to be closed'].apply(mergeIfContains, substring='Production- Sterile', resultingLabel = 'Routine')\n",
    "df_unique_labels(interview_data, 'Position to be closed')"
   ]
  },
  {
   "cell_type": "markdown",
   "metadata": {},
   "source": [
    "Nature of Skillset"
   ]
  },
  {
   "cell_type": "code",
   "execution_count": 38,
   "metadata": {},
   "outputs": [
    {
     "data": {
      "text/plain": [
       "array(['- SAPBO, Informatica', '10.00 AM', '11.30 AM', '11.30 Am',\n",
       "       '12.30 Pm', '9.00 Am', '9.30 AM', 'ALS Testing', 'AML/KYC/CDD',\n",
       "       'Accounting Operations', 'Analytical R & D', 'Analytical R&D',\n",
       "       'Automation Testing Java', 'Banking Operations',\n",
       "       'Banking operations', 'BaseSAS Program/ Reporting', 'Biosimilars',\n",
       "       'Biosimiliars', 'Biosimillar', 'CDD KYC', 'COTS', 'COTS Developer',\n",
       "       'Core Java', 'Dot Net', 'EMEA', 'ETL', 'Fresher',\n",
       "       'Global Labelling', 'Hadoop', 'JAVA, J2ee', 'JAVA,J2ee',\n",
       "       'JAVA,SQL', 'JAVA/J2EE', 'JAVA/J2EE/Struts/Hibernate',\n",
       "       'JAVA/SPRING/HIBERNATE/JSF', 'Java', 'Java ', 'Java ,J2ee',\n",
       "       'Java Developer', 'Java J2EE', 'Java J2ee', 'Java JSF',\n",
       "       'Java Tech Lead', 'Java, J2Ee', 'Java, SQL',\n",
       "       'Java, Spring, Hibernate', 'Java, XML, Struts, hibernate',\n",
       "       'Java,J2EE', 'Java,J2ee, JSF', 'Java,SQL', 'Java,spring,hibernate',\n",
       "       'Java-SAS', 'Java/J2ee', 'Java/J2ee/Core Java', 'L & L',\n",
       "       'LCM -Manager', 'Lending & Liability', 'Lending And Liabilities',\n",
       "       'Lending and Liabilities', 'Lending&Liablities', 'Licensing – RA',\n",
       "       'Manager', 'Oracle', 'Oracle Plsql', 'Product Control',\n",
       "       'Production', 'Production Support - SCCM', 'Publishing',\n",
       "       'RA Label', 'RA Publishing', 'Regulatory', 'Routine', 'SAS',\n",
       "       'SCCM', 'SCCM – SQL', 'SCCM – Sharepoint',\n",
       "       'SCCM-(Network, sharepoint,ms exchange)', 'SCCm- Desktop support',\n",
       "       'Sccm- networking', 'Senior Analyst',\n",
       "       'Senior software engineer-Mednet', 'Sr Automation Testing',\n",
       "       'Submission Management', 'T-24 developer', 'TL',\n",
       "       'Tech Lead- Mednet', 'Tech lead-Mednet', 'Technical Lead',\n",
       "       'generic drugs – RA', 'production', 'sccm', 'testing'],\n",
       "      dtype=object)"
      ]
     },
     "execution_count": 38,
     "metadata": {},
     "output_type": "execute_result"
    }
   ],
   "source": [
    "df_unique_labels(interview_data, 'Nature of Skillset')"
   ]
  },
  {
   "cell_type": "code",
   "execution_count": 39,
   "metadata": {},
   "outputs": [],
   "source": [
    "interview_data['Nature of Skillset'] = interview_data['Nature of Skillset'].apply(mergeIfContains, substring='Java')\n",
    "interview_data['Nature of Skillset'] = interview_data['Nature of Skillset'].apply(mergeIfContains, substring='SCCM')\n",
    "interview_data['Nature of Skillset'] = interview_data['Nature of Skillset'].apply(mergeIfContains, substring='Analytical', resultingLabel = \"Analytical R&D\")\n",
    "interview_data['Nature of Skillset'] = interview_data['Nature of Skillset'].apply(mergeIfContains, substring='Manager')\n",
    "interview_data['Nature of Skillset'] = interview_data['Nature of Skillset'].apply(mergeIfContains, substring='Tech lead', resultingLabel = 'Technical Lead')\n",
    "interview_data['Nature of Skillset'] = interview_data['Nature of Skillset'].apply(mergeIfContains, substring='Oracle')\n",
    "interview_data['Nature of Skillset'] = interview_data['Nature of Skillset'].apply(mergeIfContains, substring='L & L', resultingLabel = 'Lending & Liability')\n",
    "interview_data['Nature of Skillset'] = interview_data['Nature of Skillset'].apply(mergeIfContains, substring='Lending And Liabilities', resultingLabel = 'Lending & Liability')\n",
    "interview_data['Nature of Skillset'] = interview_data['Nature of Skillset'].apply(mergeIfContains, substring='Lending&Liablities', resultingLabel = 'Lending & Liability')\n",
    "interview_data['Nature of Skillset'] = interview_data['Nature of Skillset'].apply(mergeIfContains, substring='COTS')\n",
    "interview_data['Nature of Skillset'] = interview_data['Nature of Skillset'].apply(mergeIfContains, substring='Testing')\n",
    "interview_data['Nature of Skillset'] = interview_data['Nature of Skillset'].apply(mergeIfContains, substring='AML', resultingLabel = 'CDD')\n",
    "interview_data['Nature of Skillset'] = interview_data['Nature of Skillset'].apply(mergeIfContains, substring='KYC', resultingLabel = 'CDD')\n",
    "interview_data['Nature of Skillset'] = interview_data['Nature of Skillset'].apply(mergeIfContains, substring='CDD')\n",
    "interview_data['Nature of Skillset'] = interview_data['Nature of Skillset'].apply(cleanOtherValues, valuesWanted = ['Java', 'CDD', 'Accounting Operations', 'Fresher', 'Oracle'])"
   ]
  },
  {
   "cell_type": "code",
   "execution_count": 40,
   "metadata": {},
   "outputs": [
    {
     "data": {
      "text/plain": [
       "array(['Accounting Operations', 'CDD', 'Fresher', 'Java', 'Oracle',\n",
       "       'Others'], dtype=object)"
      ]
     },
     "execution_count": 40,
     "metadata": {},
     "output_type": "execute_result"
    }
   ],
   "source": [
    "df_unique_labels(interview_data, 'Nature of Skillset')"
   ]
  },
  {
   "cell_type": "code",
   "execution_count": 41,
   "metadata": {},
   "outputs": [
    {
     "data": {
      "text/plain": [
       "Java                     459\n",
       "Others                   398\n",
       "CDD                      136\n",
       "Fresher                   86\n",
       "Accounting Operations     86\n",
       "Oracle                    68\n",
       "Name: Nature of Skillset, dtype: int64"
      ]
     },
     "execution_count": 41,
     "metadata": {},
     "output_type": "execute_result"
    }
   ],
   "source": [
    "interview_data['Nature of Skillset'].value_counts()"
   ]
  },
  {
   "cell_type": "markdown",
   "metadata": {},
   "source": [
    "Interview Type"
   ]
  },
  {
   "cell_type": "code",
   "execution_count": 42,
   "metadata": {},
   "outputs": [
    {
     "data": {
      "text/plain": [
       "array(['Scheduled ', 'Scheduled Walk In', 'Walkin'], dtype=object)"
      ]
     },
     "execution_count": 42,
     "metadata": {},
     "output_type": "execute_result"
    }
   ],
   "source": [
    "interview_data['Interview Type'] = interview_data['Interview Type'].apply(mergeIfContains, substring='Scheduled Walkin', resultingLabel='Scheduled Walk In')\n",
    "interview_data['Interview Type'] = interview_data['Interview Type'].apply(mergeIfContains, substring='Walkin', resultingLabel='Walkin')\n",
    "df_unique_labels(interview_data, 'Interview Type')"
   ]
  },
  {
   "cell_type": "markdown",
   "metadata": {},
   "source": [
    "Candidate Current Location"
   ]
  },
  {
   "cell_type": "code",
   "execution_count": 43,
   "metadata": {},
   "outputs": [
    {
     "data": {
      "text/plain": [
       "Chennai       754\n",
       "Bangalore     292\n",
       "chennai        86\n",
       "Hyderabad      38\n",
       "Gurgaon        34\n",
       "Noida          15\n",
       "- Cochin-       9\n",
       "chennai         3\n",
       "CHENNAI         1\n",
       "Delhi           1\n",
       "Name: Candidate Current Location, dtype: int64"
      ]
     },
     "execution_count": 43,
     "metadata": {},
     "output_type": "execute_result"
    }
   ],
   "source": [
    "interview_data['Candidate Current Location'].value_counts()"
   ]
  },
  {
   "cell_type": "code",
   "execution_count": 44,
   "metadata": {},
   "outputs": [
    {
     "data": {
      "text/plain": [
       "Chennai           844\n",
       "Bangalore         292\n",
       "Capital Region     50\n",
       "Hyderabad          38\n",
       "- Cochin-           9\n",
       "Name: Candidate Current Location, dtype: int64"
      ]
     },
     "execution_count": 44,
     "metadata": {},
     "output_type": "execute_result"
    }
   ],
   "source": [
    "interview_data['Candidate Current Location'] = interview_data['Candidate Current Location'].apply(mergeIfContains, substring='Chennai')\n",
    "interview_data['Candidate Current Location'] = interview_data['Candidate Current Location'].apply(mergeIfContains, substring='Delhi', resultingLabel='Capital Region')\n",
    "interview_data['Candidate Current Location'] = interview_data['Candidate Current Location'].apply(mergeIfContains, substring='Noida', resultingLabel='Capital Region')\n",
    "interview_data['Candidate Current Location'] = interview_data['Candidate Current Location'].apply(mergeIfContains, substring='Gurgaon', resultingLabel='Capital Region')\n",
    "interview_data['Candidate Current Location'].value_counts()"
   ]
  },
  {
   "cell_type": "markdown",
   "metadata": {},
   "source": [
    "Candidate Job Location"
   ]
  },
  {
   "cell_type": "code",
   "execution_count": 45,
   "metadata": {},
   "outputs": [
    {
     "data": {
      "text/plain": [
       "Chennai          893\n",
       "Bangalore        259\n",
       "Gurgaon           35\n",
       "Visakapatinam     21\n",
       "Noida             15\n",
       "- Cochin-          9\n",
       "Hosur              1\n",
       "Name: Candidate Job Location, dtype: int64"
      ]
     },
     "execution_count": 45,
     "metadata": {},
     "output_type": "execute_result"
    }
   ],
   "source": [
    "interview_data['Candidate Job Location'].value_counts()"
   ]
  },
  {
   "cell_type": "code",
   "execution_count": 46,
   "metadata": {},
   "outputs": [
    {
     "data": {
      "text/plain": [
       "Chennai           893\n",
       "Bangalore         259\n",
       "Capital Region     50\n",
       "Visakapatinam      21\n",
       "- Cochin-           9\n",
       "Hosur               1\n",
       "Name: Candidate Job Location, dtype: int64"
      ]
     },
     "execution_count": 46,
     "metadata": {},
     "output_type": "execute_result"
    }
   ],
   "source": [
    "interview_data['Candidate Job Location'] = interview_data['Candidate Job Location'].apply(mergeIfContains, substring='Chennai')\n",
    "interview_data['Candidate Job Location'] = interview_data['Candidate Job Location'].apply(mergeIfContains, substring='Delhi', resultingLabel='Capital Region')\n",
    "interview_data['Candidate Job Location'] = interview_data['Candidate Job Location'].apply(mergeIfContains, substring='Noida', resultingLabel='Capital Region')\n",
    "interview_data['Candidate Job Location'] = interview_data['Candidate Job Location'].apply(mergeIfContains, substring='Gurgaon', resultingLabel='Capital Region')\n",
    "interview_data['Candidate Job Location'].value_counts()"
   ]
  },
  {
   "cell_type": "markdown",
   "metadata": {},
   "source": [
    "Interview Venue"
   ]
  },
  {
   "cell_type": "code",
   "execution_count": 47,
   "metadata": {},
   "outputs": [
    {
     "data": {
      "text/plain": [
       "Chennai           852\n",
       "Bangalore         277\n",
       "Capital Region     50\n",
       "Hyderabad          40\n",
       "- Cochin-           9\n",
       "Hosur               5\n",
       "Name: Interview Venue, dtype: int64"
      ]
     },
     "execution_count": 47,
     "metadata": {},
     "output_type": "execute_result"
    }
   ],
   "source": [
    "interview_data['Interview Venue'] = interview_data['Interview Venue'].apply(mergeIfContains, substring='Chennai')\n",
    "interview_data['Interview Venue'] = interview_data['Interview Venue'].apply(mergeIfContains, substring='Delhi', resultingLabel='Capital Region')\n",
    "interview_data['Interview Venue'] = interview_data['Interview Venue'].apply(mergeIfContains, substring='Noida', resultingLabel='Capital Region')\n",
    "interview_data['Interview Venue'] = interview_data['Interview Venue'].apply(mergeIfContains, substring='Gurgaon', resultingLabel='Capital Region')\n",
    "interview_data['Interview Venue'].value_counts()"
   ]
  },
  {
   "cell_type": "markdown",
   "metadata": {},
   "source": [
    "Same Locations"
   ]
  },
  {
   "cell_type": "code",
   "execution_count": 48,
   "metadata": {},
   "outputs": [],
   "source": [
    "def sameLocation(df, column1, column2, column3):\n",
    "    return ((df[column1] == df[column2]) == df[column3])"
   ]
  },
  {
   "cell_type": "code",
   "execution_count": 49,
   "metadata": {},
   "outputs": [
    {
     "data": {
      "text/plain": [
       "753    False\n",
       "582    False\n",
       "548    False\n",
       "113    False\n",
       "174    False\n",
       "Name: Job Location is the same as Candidate Location, dtype: bool"
      ]
     },
     "execution_count": 49,
     "metadata": {},
     "output_type": "execute_result"
    }
   ],
   "source": [
    "interview_data['Job Location is the same as Candidate Location'] = sameLocation(interview_data, 'Candidate Current Location', 'Candidate Job Location', 'Interview Venue')\n",
    "interview_data['Job Location is the same as Candidate Location'].head()"
   ]
  },
  {
   "cell_type": "markdown",
   "metadata": {},
   "source": [
    "## Drop location columns"
   ]
  },
  {
   "cell_type": "code",
   "execution_count": 50,
   "metadata": {},
   "outputs": [],
   "source": [
    "interview_data = interview_data.drop(['Candidate Current Location', 'Candidate Job Location', 'Location', 'Candidate Native location', 'Interview Venue'], axis=1)"
   ]
  },
  {
   "cell_type": "markdown",
   "metadata": {},
   "source": [
    "## Most common attributes for Interview Data"
   ]
  },
  {
   "cell_type": "markdown",
   "metadata": {},
   "source": [
    "## Set up Data"
   ]
  },
  {
   "cell_type": "code",
   "execution_count": 51,
   "metadata": {},
   "outputs": [],
   "source": [
    "seventy_five__percentile = int(len(interview_data)*0.75) \n",
    "x_train, y_train = interview_data.drop(['Observed Attendance'], axis=1)[:seventy_five__percentile], interview_data['Observed Attendance'][:seventy_five__percentile]\n",
    "x_test, y_test = interview_data.drop(['Observed Attendance'], axis=1)[seventy_five__percentile:], interview_data['Observed Attendance'][seventy_five__percentile:]\n",
    "x_train.reset_index(drop=True, inplace=True)\n",
    "x_test.reset_index(drop=True, inplace=True)"
   ]
  },
  {
   "cell_type": "markdown",
   "metadata": {},
   "source": [
    "## Fit Data"
   ]
  },
  {
   "cell_type": "code",
   "execution_count": 52,
   "metadata": {},
   "outputs": [],
   "source": [
    "naive_bayes = NaiveBayes()\n",
    "naive_bayes.fit(x_train, y_train.values)"
   ]
  },
  {
   "cell_type": "markdown",
   "metadata": {},
   "source": [
    "## Predict Data"
   ]
  },
  {
   "cell_type": "code",
   "execution_count": 53,
   "metadata": {},
   "outputs": [],
   "source": [
    "predictions = naive_bayes.predict(x_test)"
   ]
  },
  {
   "cell_type": "markdown",
   "metadata": {},
   "source": [
    "## Confusion Matrix"
   ]
  },
  {
   "cell_type": "code",
   "execution_count": 54,
   "metadata": {},
   "outputs": [
    {
     "data": {
      "image/png": "[encoded data removed]",
      "text/plain": [
       "<Figure size 1152x864 with 2 Axes>"
      ]
     },
     "metadata": {
      "needs_background": "light"
     },
     "output_type": "display_data"
    }
   ],
   "source": [
    "confusion_matrix = ConfusionMatrix()\n",
    "confusion_matrix.fit(predictions, y_test.values)\n",
    "confusion_matrix.plot()"
   ]
  },
  {
   "cell_type": "markdown",
   "metadata": {},
   "source": [
    "measurements for no attendance"
   ]
  },
  {
   "cell_type": "code",
   "execution_count": 55,
   "metadata": {},
   "outputs": [
    {
     "name": "stdout",
     "output_type": "stream",
     "text": [
      "Confusion Matrix label measurements for  no\n",
      "Accuracy rate 0.6957928802588996\n",
      "Error rate 0.3042071197411004\n",
      "Recall 0.4406779661016949\n",
      "False Positive Rate 0.14659685863874344\n",
      "True Negative Rate 0.5593220338983051\n",
      "Precision 0.65\n",
      "Prevalence 0.3818770226537217\n",
      "Matthews Correlation Coefficient 0.32618356710102525\n"
     ]
    }
   ],
   "source": [
    "confusion_matrix.measurements(\"no\")"
   ]
  },
  {
   "cell_type": "markdown",
   "metadata": {},
   "source": [
    "measurements for yes attendance"
   ]
  },
  {
   "cell_type": "code",
   "execution_count": 56,
   "metadata": {},
   "outputs": [
    {
     "name": "stdout",
     "output_type": "stream",
     "text": [
      "Confusion Matrix label measurements for  yes\n",
      "Accuracy rate 0.6957928802588996\n",
      "Error rate 0.3042071197411004\n",
      "Recall 0.8534031413612565\n",
      "False Positive Rate 0.559322033898305\n",
      "True Negative Rate 0.1465968586387435\n",
      "Precision 0.7117903930131004\n",
      "Prevalence 0.6181229773462783\n",
      "Matthews Correlation Coefficient 0.32618356710102525\n"
     ]
    }
   ],
   "source": [
    "confusion_matrix.measurements(\"yes\")"
   ]
  },
  {
   "cell_type": "markdown",
   "metadata": {},
   "source": [
    "## Roc Curve for no attendance"
   ]
  },
  {
   "cell_type": "code",
   "execution_count": 57,
   "metadata": {},
   "outputs": [],
   "source": [
    "roc = ROC()"
   ]
  },
  {
   "cell_type": "code",
   "execution_count": 58,
   "metadata": {},
   "outputs": [
    {
     "data": {
      "image/png": "[encoded data removed]",
      "text/plain": [
       "<Figure size 432x288 with 1 Axes>"
      ]
     },
     "metadata": {
      "needs_background": "light"
     },
     "output_type": "display_data"
    }
   ],
   "source": [
    "probs_score = naive_bayes.predict_probability(x_test, 'no')\n",
    "roc.plot('no', probs_score, y_test.values)"
   ]
  },
  {
   "cell_type": "code",
   "execution_count": 59,
   "metadata": {},
   "outputs": [
    {
     "data": {
      "image/png": "[encoded data removed]",
      "text/plain": [
       "<Figure size 432x288 with 1 Axes>"
      ]
     },
     "metadata": {
      "needs_background": "light"
     },
     "output_type": "display_data"
    }
   ],
   "source": [
    "probs_score = naive_bayes.predict_probability(x_test, 'yes')\n",
    "roc.plot('yes', probs_score, y_test.values)"
   ]
  }
 ],
 "metadata": {
  "kernelspec": {
   "display_name": "Python 3",
   "language": "python",
   "name": "python3"
  },
  "language_info": {
   "codemirror_mode": {
    "name": "ipython",
    "version": 3
   },
   "file_extension": ".py",
   "mimetype": "text/x-python",
   "name": "python",
   "nbconvert_exporter": "python",
   "pygments_lexer": "ipython3",
   "version": "3.7.6"
  }
 },
 "nbformat": 4,
 "nbformat_minor": 4
}
